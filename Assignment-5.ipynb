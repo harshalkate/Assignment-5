{
 "cells": [
  {
   "cell_type": "markdown",
   "id": "cf392227-ec8f-4228-8aec-908c64400933",
   "metadata": {},
   "source": [
    "1. What does an empty dictionary's code look like?\n",
    "Ans: empty_dict = {}"
   ]
  },
  {
   "cell_type": "markdown",
   "id": "b7fedb70-0d24-4858-aec9-b6c27f007560",
   "metadata": {},
   "source": [
    "2. What is the value of a dictionary value with the key 'foo' and the value 42?"
   ]
  },
  {
   "cell_type": "code",
   "execution_count": 3,
   "id": "0a78ac0d-d871-4204-b298-d1aebc49b09f",
   "metadata": {},
   "outputs": [
    {
     "name": "stdout",
     "output_type": "stream",
     "text": [
      "42\n"
     ]
    }
   ],
   "source": [
    "#Ans:\n",
    "my_dict = {\"foo\":\"42\"}\n",
    "value1=my_dict[\"foo\"]\n",
    "print(value1)    "
   ]
  },
  {
   "cell_type": "markdown",
   "id": "32aa3366-30b8-436c-ba00-11e7ddd99f6d",
   "metadata": {},
   "source": [
    "3. What is the most significant distinction between a dictionary and a list?\n",
    "Ans:A list is an ordered collection of items, whereas a dictionary is a unordered data collection in a key : value:. Elements from the list can be accessed using the index, while the elements of the dictionary can be accessed using their keys."
   ]
  },
  {
   "cell_type": "markdown",
   "id": "9a8ca36c-338b-4d41-a135-c13c99c84180",
   "metadata": {},
   "source": [
    "4. What happens if you try to access spam ['foo'] if spam is {'bar': 100}?\n",
    "Ans: It'll give the output keyerror as it not consist \"foo\" in it."
   ]
  },
  {
   "cell_type": "code",
   "execution_count": 4,
   "id": "1fc861d9-8ad6-4af5-a6f2-e989b87aa427",
   "metadata": {},
   "outputs": [
    {
     "ename": "KeyError",
     "evalue": "'foo'",
     "output_type": "error",
     "traceback": [
      "\u001b[0;31m---------------------------------------------------------------------------\u001b[0m",
      "\u001b[0;31mKeyError\u001b[0m                                  Traceback (most recent call last)",
      "Cell \u001b[0;32mIn[4], line 3\u001b[0m\n\u001b[1;32m      1\u001b[0m \u001b[38;5;66;03m#Ans:\u001b[39;00m\n\u001b[1;32m      2\u001b[0m spam \u001b[38;5;241m=\u001b[39m {\u001b[38;5;124m\"\u001b[39m\u001b[38;5;124mbar\u001b[39m\u001b[38;5;124m\"\u001b[39m:\u001b[38;5;241m100\u001b[39m}\n\u001b[0;32m----> 3\u001b[0m value \u001b[38;5;241m=\u001b[39m \u001b[43mspam\u001b[49m\u001b[43m[\u001b[49m\u001b[38;5;124;43m\"\u001b[39;49m\u001b[38;5;124;43mfoo\u001b[39;49m\u001b[38;5;124;43m\"\u001b[39;49m\u001b[43m]\u001b[49m\n",
      "\u001b[0;31mKeyError\u001b[0m: 'foo'"
     ]
    }
   ],
   "source": [
    "#Ans4:\n",
    "spam = {\"bar\":100}\n",
    "value = spam[\"foo\"]"
   ]
  },
  {
   "cell_type": "markdown",
   "id": "40dde676-00cc-4bed-9981-24ddc3f68383",
   "metadata": {},
   "source": [
    "5. If a dictionary is stored in spam, what is the difference between the expressions 'cat' in spam and 'cat' in spam.keys()?\n",
    "Ans: In dictionary spam it'll checks the expression \"cat\" if its present then it'll give the output and if it's not then it'll give the error.\n",
    "AND in spam.keys(): This expression first retrieves all the keys of the dictionary spam using the keys() method and then checks whether 'cat' is present in that list of that keys. It behaves exactly the same as the first expression. However, it involves an additional step of retrieving all keys of the dictionary before performing the check."
   ]
  },
  {
   "cell_type": "markdown",
   "id": "fbfb7abe-f8aa-417c-b84d-db5932d792bb",
   "metadata": {},
   "source": [
    "6. If a dictionary is stored in spam, what is the difference between the expressions 'cat' in spam and 'cat' in spam.values()?\n",
    "Ans: spam_dict: The 'cat' in spam checks whether there is a 'cat' key in the dictionary. \n",
    "spam.values(): while 'cat' in spam. values() checks whether there is a value 'cat' for one of the keys in spam."
   ]
  },
  {
   "cell_type": "markdown",
   "id": "228032be-ec7e-45b0-9386-e0af392892cd",
   "metadata": {},
   "source": [
    "7. What is a shortcut for the following code?\n",
    "if 'color' not in spam:\n",
    "spam['color'] = 'black'"
   ]
  },
  {
   "cell_type": "code",
   "execution_count": 6,
   "id": "4133ffc0-dfa7-47c5-82f2-452802d0f897",
   "metadata": {},
   "outputs": [
    {
     "data": {
      "text/plain": [
       "'black'"
      ]
     },
     "execution_count": 6,
     "metadata": {},
     "output_type": "execute_result"
    }
   ],
   "source": [
    "#ANS\n",
    "spam.setdefault('color', 'black')"
   ]
  },
  {
   "cell_type": "markdown",
   "id": "8ffa64e0-0045-4148-8722-a472052a8d80",
   "metadata": {},
   "source": [
    "8. How do you \"pretty print\" dictionary values using which module and function?"
   ]
  },
  {
   "cell_type": "code",
   "execution_count": 15,
   "id": "326f197c-2797-4713-abbc-a9c292d45689",
   "metadata": {},
   "outputs": [
    {
     "name": "stdout",
     "output_type": "stream",
     "text": [
      "{'key1': 'value1', 'key2': 'value2', 'key3': 'value3'}\n"
     ]
    }
   ],
   "source": [
    "import pprint\n",
    "dict_1 = {'key1': 'value1', 'key2': 'value2', 'key3': 'value3'}\n",
    "pprint.pprint(dict_1)\n",
    "\n"
   ]
  },
  {
   "cell_type": "code",
   "execution_count": null,
   "id": "a0a2e111-8b4f-41d1-a24a-fd2ff9e596e7",
   "metadata": {},
   "outputs": [],
   "source": []
  }
 ],
 "metadata": {
  "kernelspec": {
   "display_name": "Python 3 (ipykernel)",
   "language": "python",
   "name": "python3"
  },
  "language_info": {
   "codemirror_mode": {
    "name": "ipython",
    "version": 3
   },
   "file_extension": ".py",
   "mimetype": "text/x-python",
   "name": "python",
   "nbconvert_exporter": "python",
   "pygments_lexer": "ipython3",
   "version": "3.10.8"
  }
 },
 "nbformat": 4,
 "nbformat_minor": 5
}
